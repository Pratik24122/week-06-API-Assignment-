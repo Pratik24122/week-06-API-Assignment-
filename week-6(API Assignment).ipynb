{
 "cells": [
  {
   "cell_type": "markdown",
   "id": "ee4d8002",
   "metadata": {},
   "source": [
    "### Q1"
   ]
  },
  {
   "cell_type": "code",
   "execution_count": 1,
   "id": "53f41157",
   "metadata": {},
   "outputs": [],
   "source": [
    "#An API, or Application Programming Interface, is a way for different software applications to communicate\n",
    "#and exchange data with each other. \n",
    "#One example of an API that you may use in your everyday life is the Google Maps API. This API allows\n",
    "#developers to embed Google Maps features into their own websites or apps, such as displaying maps, \n",
    "#directions, traffic, or places of interest."
   ]
  },
  {
   "cell_type": "markdown",
   "id": "5e09023b",
   "metadata": {},
   "source": [
    "### Q2"
   ]
  },
  {
   "cell_type": "code",
   "execution_count": 2,
   "id": "3f574900",
   "metadata": {},
   "outputs": [],
   "source": [
    "#Advantages :\n",
    "\n",
    "#Better User Experience: APIs can enable third-party developers to create applications that integrate with \n",
    "#existing software systems, providing a better user experience and increased functionality.\n",
    "\n",
    "#Increased Flexibility: APIs provide developers with greater flexibility, enabling them to choose the best\n",
    "#programming languages and frameworks for their needs.\n",
    "\n",
    "#Increased Interoperability: API solutions enable different software systems to communicate with each other,\n",
    "#regardless of their programming language or platform. This enhances the interoperability between systems,\n",
    "#allowing for the exchange of data and functionality.\n",
    "\n",
    "#Improved Efficiency: API driven infrastructures enable developers to reuse code and functionality from \n",
    "#existing software systems, saving time and reducing the amount of code that needs to be written from \n",
    "#scratch."
   ]
  },
  {
   "cell_type": "code",
   "execution_count": 3,
   "id": "cab408b3",
   "metadata": {},
   "outputs": [],
   "source": [
    "#Disadvantages :\n",
    "\n",
    "#Security Concerns: API infrastructures can be vulnerable to security breaches, such as SQL injection \n",
    "#attacks and cross-site scripting (XSS) attacks, making it crucial to implement security measures to \n",
    "#protect against these threats.\n",
    "\n",
    "#Complexity: APIs can be complex, requiring a significant amount of development effort to implement and \n",
    "#maintain.\n",
    "\n",
    "#Compatibility Issues: APIs can have compatibility issues between different versions of the same software\n",
    "#system or between different systems, which can lead to errors and system failures.\n",
    "\n",
    "#Dependency on Third-Party Developers: APIs rely on third-party developers to create applications that \n",
    "#integrate with the software system. This can create dependencies that are outside of the control of the\n",
    "#company that owns the software system.\n",
    "\n",
    "#Governance and Management: APIs require proper governance and management to ensure they are being used \n",
    "#correctly and consistently across different applications and systems."
   ]
  },
  {
   "cell_type": "markdown",
   "id": "36c3de0a",
   "metadata": {},
   "source": [
    "### Q3"
   ]
  },
  {
   "cell_type": "code",
   "execution_count": 4,
   "id": "56751ea0",
   "metadata": {},
   "outputs": [],
   "source": [
    "#A Web API is a type of API that uses web protocols and formats, such as HTTP, JSON, and XML, to\n",
    "#communicate and exchange data between different applications over the internet.\n",
    "\n",
    "#The main difference between a Web API and an API is that a Web API is a specific type of API that uses\n",
    "#web technologies, whereas an API can be any type of interface that connects two applications."
   ]
  },
  {
   "cell_type": "markdown",
   "id": "6f76b7e4",
   "metadata": {},
   "source": [
    "### Q4"
   ]
  },
  {
   "cell_type": "code",
   "execution_count": 5,
   "id": "500db7b9",
   "metadata": {},
   "outputs": [],
   "source": [
    "#REST stands for Representational State Transfer, and it is an architectural style that defines a set of \n",
    "#principles and constraints for designing web APIs. REST is based on the idea that every resource on the\n",
    "#web has a unique identifier (URI), and can be accessed and manipulated using standard HTTP methods, such \n",
    "#as GET, POST, PUT, and DELETE. REST also emphasizes the use of simple and uniform formats for representing\n",
    "#and transferring data, such as JSON, XML, or plain text. REST APIs are stateless, meaning that each \n",
    "#request is independent and does not rely on any previous or subsequent requests.\n",
    "\n",
    "# SOAP stands for Simple Object Access Protocol, and it is a protocol that defines a set of rules and \n",
    "#formats for exchanging structured and typed data between applications. SOAP uses XML as the data format, \n",
    "#and relies on other protocols, such as HTTP, SMTP, or TCP, for the transport layer. SOAP also defines a \n",
    "#standard envelope structure that wraps the data and contains information about the message, such as the\n",
    "#sender, receiver, and action. SOAP APIs are stateful, meaning that they can maintain the context and state\n",
    "#of the communication across multiple requests.\n",
    "\n",
    "#shortcomings of SOAP :\n",
    "#Slow: SOAP messages are larger, which makes communication slower.\n",
    "#Limited transfer protocol support: SOAP supports a wide range of transport protocols, including HTTP, SMTP, and UDP.\n",
    "#XML data exchange: SOAP only supports XML data exchange."
   ]
  },
  {
   "cell_type": "markdown",
   "id": "41203954",
   "metadata": {},
   "source": [
    "### Q5"
   ]
  },
  {
   "cell_type": "code",
   "execution_count": 6,
   "id": "5b8e8784",
   "metadata": {},
   "outputs": [],
   "source": [
    "#REST and SOAP are two different approaches to building and using web APIs, which are software interfaces \n",
    "#that allow applications to communicate and exchange data over the internet.\n",
    "\n",
    "#The main difference is that SOAP is a structured protocol, while REST is more flexible and less defined.\n",
    "#SOAP uses XML as the data format, and relies on other protocols, such as HTTP, SMTP, or TCP, for the\n",
    "#transport layer. SOAP also defines a standard envelope structure that wraps the data and contains\n",
    "#information about the message, such as the sender, receiver, and action. SOAP APIs are stateful, meaning\n",
    "#that they can maintain the context and state of the communication across multiple requests."
   ]
  },
  {
   "cell_type": "code",
   "execution_count": null,
   "id": "de40c8ae",
   "metadata": {},
   "outputs": [],
   "source": []
  }
 ],
 "metadata": {
  "kernelspec": {
   "display_name": "Python 3 (ipykernel)",
   "language": "python",
   "name": "python3"
  },
  "language_info": {
   "codemirror_mode": {
    "name": "ipython",
    "version": 3
   },
   "file_extension": ".py",
   "mimetype": "text/x-python",
   "name": "python",
   "nbconvert_exporter": "python",
   "pygments_lexer": "ipython3",
   "version": "3.9.13"
  }
 },
 "nbformat": 4,
 "nbformat_minor": 5
}
